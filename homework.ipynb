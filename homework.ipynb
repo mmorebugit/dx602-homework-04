{
  "cells": [
    {
      "cell_type": "markdown",
      "metadata": {
        "id": "Z_pRhVVPp3vD"
      },
      "source": [
        "# DX 602 Week 4 Homework\n",
        "\n"
      ]
    },
    {
      "cell_type": "markdown",
      "metadata": {
        "id": "F1zsR3_xKOUm"
      },
      "source": [
        "## Introduction\n",
        "\n",
        "In this homework, you will practice working with strings to represent data, and reading and writing files to access and store data.\n",
        "\n",
        "You may find it helpful to refer to this GitHub repository of Jupyter notebooks for sample code.\n",
        "\n",
        "* https://github.com/bu-cds-omds/dx602-examples\n",
        "\n",
        "Any calculations demonstrated in code examples or videos may be found in these notebooks, and you are allowed to copy this example code in your homework answers."
      ]
    },
    {
      "cell_type": "markdown",
      "metadata": {
        "id": "dJAalY6t1Y-5"
      },
      "source": [
        "## Instructions\n",
        "\n",
        "You should replace every instance of \"...\" below.\n",
        "These are where you are expected to write code to answer each problem.\n",
        "\n",
        "After some of the problems, there are extra code cells that will test functions that you wrote so you can quickly see how they run on an example.\n",
        "If your code works on these examples, it is more likely to be correct.\n",
        "However, the autograder will test different examples, so working correctly on these examples does not guarantee full credit for the problem.\n",
        "You may change the example inputs to further test your functions on your own.\n",
        "You may also add your own example inputs for problems where we did not provide any.\n",
        "\n",
        "Be sure to run each code block after you edit it to make sure it runs as expected.\n",
        "When you are done, we strongly recommend you run all the code from scratch (Runtime menu -> Restart and Run all) to make sure your current code works for all problems.\n",
        "\n",
        "If your code raises an exception when run from scratch, it will  interfere with the auto-grader process causing you to lose some or all points for this homework.\n",
        "Please ask for help in YellowDig or schedule an appointment with a learning facilitator if you get stuck.\n"
      ]
    },
    {
      "cell_type": "markdown",
      "metadata": {
        "id": "mBbztKnrKmRb"
      },
      "source": [
        "### Submission\n",
        "\n",
        "To submit your homework, take the following steps.\n",
        "\n",
        "1. Save and commit this notebook.\n",
        "2. Push your changes to GitHub.\n",
        "3. Confirm that your changes are visible in GitHub.\n",
        "4. Delete the codespace to avoid wasting your free quota.\n",
        "\n",
        "The auto-grading process usually completes within a few minutes of pushing to GitHub, but occasionally can take several minutes to an hour.\n",
        "If you submit your homework early enough, you may review the auto-grading results and fix any mistakes before the deadline.\n"
      ]
    },
    {
      "cell_type": "markdown",
      "metadata": {},
      "source": [
        "#### Shared Imports\n",
        "\n",
        "These common imports will be useful for some problems.\n",
        "You may add other imports, but you should not try to install new modules not available in our Codespaces environment."
      ]
    },
    {
      "cell_type": "code",
      "execution_count": null,
      "metadata": {},
      "outputs": [],
      "source": [
        "import csv\n",
        "import json\n",
        "import re"
      ]
    },
    {
      "cell_type": "markdown",
      "metadata": {
        "id": "blKiYYVsw6QW"
      },
      "source": [
        "### Problem 1\n",
        "\n",
        "Set the variable `p1` to the length of the string `q1`."
      ]
    },
    {
      "cell_type": "code",
      "execution_count": 1,
      "metadata": {
        "id": "cP4rScqMGuze"
      },
      "outputs": [],
      "source": [
        "# DO NOT CHANGE\n",
        "\n",
        "q1 = \"Hello, I am a robot living in this notebook.\""
      ]
    },
    {
      "cell_type": "code",
      "execution_count": null,
      "metadata": {
        "id": "S73zAB2vxDZs"
      },
      "outputs": [
        {
          "data": {
            "text/plain": [
              "44"
            ]
          },
          "execution_count": 2,
          "metadata": {},
          "output_type": "execute_result"
        }
      ],
      "source": [
        "# YOUR CHANGES HERE\n",
        "\n",
        "p1 = len(q1)"
      ]
    },
    {
      "cell_type": "markdown",
      "metadata": {
        "id": "k5t19CKuWgAy"
      },
      "source": [
        "### Problem 2\n",
        "\n",
        "The variable `q2` below contains a line of text from a comma-separated value file.\n",
        "Set `p2` to the number of fields in `q2`."
      ]
    },
    {
      "cell_type": "markdown",
      "metadata": {
        "id": "040QkC0fW3Ao"
      },
      "source": [
        "Hint: Is there a string method that can separate the fields in `q2` into a list?"
      ]
    },
    {
      "cell_type": "code",
      "execution_count": 5,
      "metadata": {
        "id": "KQiLAQuKW9Ce"
      },
      "outputs": [],
      "source": [
        "# DO NOT CHANGE\n",
        "\n",
        "q2 = \"35,Hello,red,153.2,n/a,true,true,true,false,154,92,2024-09-01,2020-03-06,confirmed,n/a,F,100,100\\n\""
      ]
    },
    {
      "cell_type": "code",
      "execution_count": 6,
      "metadata": {
        "id": "2tXbdHcbXS_7"
      },
      "outputs": [],
      "source": [
        "# YOUR CHANGES HERE\n",
        "\n",
        "p2 = len(q2.split(\",\"))"
      ]
    },
    {
      "cell_type": "code",
      "execution_count": 7,
      "metadata": {},
      "outputs": [
        {
          "data": {
            "text/plain": [
              "18"
            ]
          },
          "execution_count": 7,
          "metadata": {},
          "output_type": "execute_result"
        }
      ],
      "source": [
        "p2"
      ]
    },
    {
      "cell_type": "markdown",
      "metadata": {
        "id": "QlLPGYyAC_YI"
      },
      "source": [
        "### Problem 3\n",
        "\n",
        "Write a function `p3` that takes in a string as input, and returns `True` if the string contains \"silly\" and the length of the string is at most 50 characters and `False` otherwise."
      ]
    },
    {
      "cell_type": "code",
      "execution_count": 11,
      "metadata": {
        "id": "1CUU_Td7DdnH"
      },
      "outputs": [],
      "source": [
        "# YOUR CHANGES HERE\n",
        "\n",
        "def p3(joke):\n",
        "    if \"silly\" in joke and len(joke)<=50:\n",
        "        return True\n",
        "    return False"
      ]
    },
    {
      "cell_type": "code",
      "execution_count": 12,
      "metadata": {},
      "outputs": [
        {
          "data": {
            "text/plain": [
              "True"
            ]
          },
          "execution_count": 12,
          "metadata": {},
          "output_type": "execute_result"
        }
      ],
      "source": [
        "p3(\"this is a silly joke\")"
      ]
    },
    {
      "cell_type": "code",
      "execution_count": 15,
      "metadata": {},
      "outputs": [
        {
          "data": {
            "text/plain": [
              "False"
            ]
          },
          "execution_count": 15,
          "metadata": {},
          "output_type": "execute_result"
        }
      ],
      "source": [
        "p3(\"this joke is so boring because it drones on and on and on and on forever as if noone is really reading this amirite?\")"
      ]
    },
    {
      "cell_type": "markdown",
      "metadata": {
        "id": "voCorEFqDgHa"
      },
      "source": [
        "### Problem 4\n",
        "\n",
        "In the video \"Parsing Numbers from Strings\", you saw the `ord` function used to map individual characters to their character codes.\n",
        "You can reverse this operation with the `chr` function."
      ]
    },
    {
      "cell_type": "code",
      "execution_count": 16,
      "metadata": {
        "colab": {
          "base_uri": "https://localhost:8080/"
        },
        "id": "9Ay491sCFoWE",
        "outputId": "1f74d923-1d52-4730-ad15-4f9fd213ab39"
      },
      "outputs": [
        {
          "data": {
            "text/plain": [
              "129412"
            ]
          },
          "execution_count": 16,
          "metadata": {},
          "output_type": "execute_result"
        }
      ],
      "source": [
        "ord('🦄')"
      ]
    },
    {
      "cell_type": "code",
      "execution_count": 17,
      "metadata": {
        "colab": {
          "base_uri": "https://localhost:8080/",
          "height": 35
        },
        "id": "zBFgiVa7FqVL",
        "outputId": "7dea34e9-7897-4d8e-c945-44a982e3677c"
      },
      "outputs": [
        {
          "data": {
            "text/plain": [
              "'🦄'"
            ]
          },
          "execution_count": 17,
          "metadata": {},
          "output_type": "execute_result"
        }
      ],
      "source": [
        "chr(129412)"
      ]
    },
    {
      "cell_type": "markdown",
      "metadata": {
        "id": "XFwcUtVnFtb-"
      },
      "source": [
        "The Unicode characters with codes 128200, 128201, and 128202 are all emoji related to data science.\n",
        "Set `p4` to the concatenation of these three emoji characters together.\n",
        "That is, make `p4` with those three characters in that order and just those three characters."
      ]
    },
    {
      "cell_type": "code",
      "execution_count": 18,
      "metadata": {
        "id": "8onkYe3bEFmd"
      },
      "outputs": [],
      "source": [
        "# YOUR CHANGES HERE\n",
        "\n",
        "p4 = f\"{chr(128200)}{chr(128201)}{chr(128202)}\""
      ]
    },
    {
      "cell_type": "code",
      "execution_count": 19,
      "metadata": {},
      "outputs": [
        {
          "data": {
            "text/plain": [
              "'📈📉📊'"
            ]
          },
          "execution_count": 19,
          "metadata": {},
          "output_type": "execute_result"
        }
      ],
      "source": [
        "p4"
      ]
    },
    {
      "cell_type": "markdown",
      "metadata": {
        "id": "6nhuM87ZGIXm"
      },
      "source": [
        "### Problem 5\n",
        "\n",
        "Set `p5` to be a copy of the variable `q5` after replacing \"jumped over\" with \"greeted\" and \"lazy\" with \"friendly\"."
      ]
    },
    {
      "cell_type": "code",
      "execution_count": 21,
      "metadata": {
        "id": "iezT1WYDGclf"
      },
      "outputs": [],
      "source": [
        "# DO NOT CHANGE\n",
        "\n",
        "q5 = \"The quick brown fox jumped over the lazy brown dog.\""
      ]
    },
    {
      "cell_type": "code",
      "execution_count": 36,
      "metadata": {
        "id": "K0KoZch7Gp1w"
      },
      "outputs": [],
      "source": [
        "# YOUR CHANGES HERE\n",
        "\n",
        "p5 = q5.replace(\"jumped over\",\"greeted\").replace(\"lazy\",\"friendly\")"
      ]
    },
    {
      "cell_type": "code",
      "execution_count": 37,
      "metadata": {},
      "outputs": [
        {
          "data": {
            "text/plain": [
              "'The quick brown fox greeted the friendly brown dog.'"
            ]
          },
          "execution_count": 37,
          "metadata": {},
          "output_type": "execute_result"
        }
      ],
      "source": [
        "p5"
      ]
    },
    {
      "cell_type": "markdown",
      "metadata": {
        "id": "pqPETeBNMi81"
      },
      "source": [
        "### Problem 6\n",
        "\n",
        "Write a function `p6` that takes in a filename as an argument, reads it as a TSV with a header row, and returns an iterator of dictionaries like in the example code.\n",
        "Each value should be parsed as an integer.\n",
        "If a value does not parse successfully, set the value to None."
      ]
    },
    {
      "cell_type": "code",
      "execution_count": 115,
      "metadata": {
        "id": "PhrfDMbyMnc1"
      },
      "outputs": [],
      "source": [
        "# YOUR CHANGES HERE\n",
        "\n",
        "import csv\n",
        "\n",
        "def p6(filename):\n",
        "    with open(filename) as f:\n",
        "        data = csv.DictReader(f,delimiter=\"\\t\")\n",
        "        #print(header)\n",
        "        print_row ={}\n",
        "        for row in data:\n",
        "            for key, value in row.items():\n",
        "                try:\n",
        "                    print_row[key] = int(value.strip())\n",
        "                except ValueError:\n",
        "                    print_row[key] = None\n",
        "            yield print_row"
      ]
    },
    {
      "cell_type": "code",
      "execution_count": 116,
      "metadata": {},
      "outputs": [
        {
          "data": {
            "text/plain": [
              "[{'a': 3, 'b': 4}]"
            ]
          },
          "execution_count": 116,
          "metadata": {},
          "output_type": "execute_result"
        }
      ],
      "source": [
        "list(p6(\"data6_a.tsv\"))"
      ]
    },
    {
      "cell_type": "code",
      "execution_count": 117,
      "metadata": {},
      "outputs": [
        {
          "data": {
            "text/plain": [
              "[{'g': None, 'h': None, 'i': None}, {'g': None, 'h': None, 'i': None}]"
            ]
          },
          "execution_count": 117,
          "metadata": {},
          "output_type": "execute_result"
        }
      ],
      "source": [
        "list(p6(\"data6_d.tsv\"))"
      ]
    },
    {
      "cell_type": "markdown",
      "metadata": {
        "id": "gE7eblr4MvR_"
      },
      "source": [
        "### Problem 7\n",
        "\n",
        "Write a function `p7` that takes in a filename as an argument, reads it as a TSV with a header row, and returns an iterator of dictionaries like in the example code.\n",
        "Each value should be parsed as an integer, and if the value does not parse successfully, set the value to 3.\n",
        "In addition, add a new key “finagled” to each dictionary with value True if any value did not parse successfully and False otherwise."
      ]
    },
    {
      "cell_type": "markdown",
      "metadata": {
        "id": "q9vroUV6M-C2"
      },
      "source": [
        "Hints:\n",
        "1. Use the function `p6` that you previously wrote for the shared work.\n",
        "2. Use `is None` to check for parsing failures.\n",
        "3. For the new finagled flag, set it to False initially, and change the value to True if you find a parsing failure.\n"
      ]
    },
    {
      "cell_type": "code",
      "execution_count": 124,
      "metadata": {
        "id": "5-wvb6MGMuUT"
      },
      "outputs": [],
      "source": [
        "# YOUR CHANGES HERE\n",
        "\n",
        "def p7(filename):\n",
        "    p6_output = p6(filename)\n",
        "    for row in p6_output:\n",
        "        finagled = False\n",
        "\n",
        "        new_row = {}\n",
        "\n",
        "        for key,value in row.items():\n",
        "            if value is None:\n",
        "                new_row[key] = 3\n",
        "                finagled = True\n",
        "            else:\n",
        "                new_row[key]= value\n",
        "        new_row[\"finagled\"] = finagled\n",
        "        yield new_row\n",
        "                "
      ]
    },
    {
      "cell_type": "code",
      "execution_count": 119,
      "metadata": {},
      "outputs": [
        {
          "data": {
            "text/plain": [
              "[{'a': 3, 'b': 4, 'finagled': False}]"
            ]
          },
          "execution_count": 119,
          "metadata": {},
          "output_type": "execute_result"
        }
      ],
      "source": [
        "list(p7(\"data7_a.tsv\"))"
      ]
    },
    {
      "cell_type": "code",
      "execution_count": 122,
      "metadata": {},
      "outputs": [
        {
          "data": {
            "text/plain": [
              "[{'g': 3, 'h': 5, 'i': 9, 'finagled': False},\n",
              " {'g': 3, 'h': 3, 'i': 3, 'finagled': True}]"
            ]
          },
          "execution_count": 122,
          "metadata": {},
          "output_type": "execute_result"
        }
      ],
      "source": [
        "list(p7(\"data7_d.tsv\"))"
      ]
    },
    {
      "cell_type": "markdown",
      "metadata": {
        "id": "JKXpd68DNMj4"
      },
      "source": [
        "### Problem 8\n",
        "\n",
        "Write a function `p8` that takes in three inputs - an input file name, an output filename, and a list of column names.\n",
        "The function should read the input file using the TSV format and write the output file using the TSV format with just the specified input column names.\n",
        "The output file should have the columns in the same order as the input column name list.\n"
      ]
    },
    {
      "cell_type": "code",
      "execution_count": 16,
      "metadata": {
        "id": "YIN0GfynNVS9"
      },
      "outputs": [],
      "source": [
        "# YOUR CHANGES HERE\n",
        "#import csv\n",
        "\n",
        "def p8(input_filename, output_filename, column_names):\n",
        "    allrows=[]\n",
        "    with open(input_filename) as inputfile:\n",
        "        header = inputfile.readline().strip().split(\"\\t\")\n",
        "        column_indices = [header.index(col) for col in column_names]\n",
        "        \n",
        "        for line in inputfile:\n",
        "            # strip newline at end of the line\n",
        "            line = line.rstrip(\"\\n\")\n",
        "            row_data = line.split(\"\\t\")\n",
        "            outputrow = [row_data[i] for i in column_indices]    \n",
        "            allrows.append(outputrow)\n",
        "\n",
        "    with open(output_filename, \"w\") as outputfile:\n",
        "        def write_row_to_output(row):\n",
        "            outputfile.write(\"\\t\".join(str(v) for v in row) + \"\\n\")\n",
        "        #writing header then rows:\n",
        "        write_row_to_output(column_names)\n",
        "        for row in allrows:\n",
        "            write_row_to_output(row)\n",
        "        \n",
        "\n",
        "\n",
        "            "
      ]
    },
    {
      "cell_type": "markdown",
      "metadata": {
        "id": "JrSMytwHNsIJ"
      },
      "source": [
        "You can use the next two cells to test your function."
      ]
    },
    {
      "cell_type": "code",
      "execution_count": 14,
      "metadata": {
        "id": "Tr1U2MgwNaqN"
      },
      "outputs": [],
      "source": [
        "# test p8\n",
        "p8(\"input-8.tsv\", \"output-8.tsv\", [\"height\", \"width\", \"color\"])"
      ]
    },
    {
      "cell_type": "code",
      "execution_count": 15,
      "metadata": {
        "id": "KIn9DFPaNoZl"
      },
      "outputs": [
        {
          "name": "stdout",
          "output_type": "stream",
          "text": [
            "height\twidth\tcolor\n",
            "45\t23\tred\n",
            "62\t15\tblue\n",
            "23\t123\tgreen\n"
          ]
        }
      ],
      "source": [
        "try:\n",
        "    with open(\"output-8.tsv\") as check_fp:\n",
        "        for line in check_fp:\n",
        "            print(line.rstrip(\"\\n\"))\n",
        "except FileNotFoundError:\n",
        "    print(\"file not found\")"
      ]
    },
    {
      "cell_type": "markdown",
      "metadata": {
        "id": "G_7f6OuiQF-C"
      },
      "source": [
        "### Problem 9\n",
        "\n",
        "Write a function `p9` that takes in a filename as an argument, reads it as a TSV with a header row, and returns the number of rows with data."
      ]
    },
    {
      "cell_type": "markdown",
      "metadata": {
        "id": "VmAOs1fOQKB6"
      },
      "source": [
        "Hint:\n",
        "*  This should be simple, but make sure not to count blank lines."
      ]
    },
    {
      "cell_type": "code",
      "execution_count": 28,
      "metadata": {
        "id": "bm-zS-HLQQgh"
      },
      "outputs": [],
      "source": [
        "# YOUR CHANGES HERE\n",
        "\n",
        "def p9(filename):\n",
        "    count = 0\n",
        "    with open(filename) as f:\n",
        "        header = f.readline().strip().split(\"\\t\")\n",
        "        for line in f:\n",
        "            clean_line = line.strip()\n",
        "            if clean_line:\n",
        "                count += 1\n",
        "    return count\n"
      ]
    },
    {
      "cell_type": "code",
      "execution_count": 29,
      "metadata": {},
      "outputs": [
        {
          "data": {
            "text/plain": [
              "1"
            ]
          },
          "execution_count": 29,
          "metadata": {},
          "output_type": "execute_result"
        }
      ],
      "source": [
        "p9(\"data9_a.tsv\")"
      ]
    },
    {
      "cell_type": "code",
      "execution_count": 30,
      "metadata": {},
      "outputs": [
        {
          "data": {
            "text/plain": [
              "3"
            ]
          },
          "execution_count": 30,
          "metadata": {},
          "output_type": "execute_result"
        }
      ],
      "source": [
        "p9(\"data9_d.tsv\")"
      ]
    },
    {
      "cell_type": "markdown",
      "metadata": {
        "id": "iCFdEYGwG82t"
      },
      "source": [
        "### Problem 10\n",
        "\n",
        "Write a function `p10` that takes in a filename as an argument, and returns `True` if the file is formatted as a TSV file and `False` otherwise.\n"
      ]
    },
    {
      "cell_type": "markdown",
      "metadata": {
        "id": "gW_pQZK7H2_-"
      },
      "source": [
        "Hint: You can do this just looking at the first line of the file."
      ]
    },
    {
      "cell_type": "code",
      "execution_count": 42,
      "metadata": {
        "id": "sGqg9EJ5H-8V"
      },
      "outputs": [],
      "source": [
        "# YOUR CHANGES HERE\n",
        "\n",
        "def p10(filename):\n",
        "    with open(filename) as f:\n",
        "        header = f.readline().strip()\n",
        "        if '\\t' not in header:\n",
        "            return False\n",
        "        else:\n",
        "            return True"
      ]
    },
    {
      "cell_type": "code",
      "execution_count": 43,
      "metadata": {},
      "outputs": [
        {
          "data": {
            "text/plain": [
              "True"
            ]
          },
          "execution_count": 43,
          "metadata": {},
          "output_type": "execute_result"
        }
      ],
      "source": [
        "p10(\"data10_a.tsv\")"
      ]
    },
    {
      "cell_type": "code",
      "execution_count": 44,
      "metadata": {},
      "outputs": [
        {
          "data": {
            "text/plain": [
              "False"
            ]
          },
          "execution_count": 44,
          "metadata": {},
          "output_type": "execute_result"
        }
      ],
      "source": [
        "p10(\"data10_b.tsv\")"
      ]
    },
    {
      "cell_type": "markdown",
      "metadata": {
        "id": "YluyxFIBYn9i"
      },
      "source": [
        "### Problem 11\n",
        "\n",
        "The variable `p11` below is assigned using an f-string without formatting options.\n",
        "Modify the f-string to display the number of visits with commas, and the average visit revenue with two digits after the decimal point.\n",
        "You should only modify the f-string for this problem.\n",
        "\n",
        "Feel free to search for the formatting options to guide you modifying the f-string.\n",
        "You will learn the more commonly used options with practice."
      ]
    },
    {
      "cell_type": "code",
      "execution_count": 45,
      "metadata": {
        "id": "5ymdKizuY1Jd"
      },
      "outputs": [],
      "source": [
        "# DO NOT CHANGE\n",
        "\n",
        "q11a = 5125\n",
        "q11b = 3.5123565123"
      ]
    },
    {
      "cell_type": "code",
      "execution_count": 47,
      "metadata": {
        "id": "8bibT3VpZEKq"
      },
      "outputs": [],
      "source": [
        "# YOUR CHANGES HERE\n",
        "\n",
        "p11 = f\"Number of visits = {q11a:,d}, average visit revenue = {q11b:.2f}\""
      ]
    },
    {
      "cell_type": "code",
      "execution_count": 48,
      "metadata": {
        "id": "QENJ6s5lZMpg"
      },
      "outputs": [
        {
          "data": {
            "text/plain": [
              "'Number of visits = 5,125, average visit revenue = 3.51'"
            ]
          },
          "execution_count": 48,
          "metadata": {},
          "output_type": "execute_result"
        }
      ],
      "source": [
        "p11"
      ]
    },
    {
      "cell_type": "markdown",
      "metadata": {
        "id": "v5ye5MghZ-FA"
      },
      "source": [
        "### Problem 12\n",
        "\n",
        "The variable `q12` below contains a line of text read from a CSV file.\n",
        "Set `p12` to the floating point number in the first column of `q12`."
      ]
    },
    {
      "cell_type": "code",
      "execution_count": null,
      "metadata": {
        "id": "0p6cgsMkZ9J3"
      },
      "outputs": [],
      "source": [
        "# DO NOT CHANGE\n",
        "\n",
        "q12 = \"6.4,dog,red,0.9\\n\""
      ]
    },
    {
      "cell_type": "code",
      "execution_count": 49,
      "metadata": {
        "id": "drPdwLZ8aZdo"
      },
      "outputs": [],
      "source": [
        "# YOUR CHANGES HERE\n",
        "\n",
        "p12 = 6.4"
      ]
    },
    {
      "cell_type": "code",
      "execution_count": 50,
      "metadata": {},
      "outputs": [
        {
          "data": {
            "text/plain": [
              "6.4"
            ]
          },
          "execution_count": 50,
          "metadata": {},
          "output_type": "execute_result"
        }
      ],
      "source": [
        "p12"
      ]
    },
    {
      "cell_type": "markdown",
      "metadata": {
        "id": "DzUKbAYhQXbG"
      },
      "source": [
        "### Problem 13\n",
        "\n",
        "Write a function `p13` that takes in a filename as an argument, reads it as a CSV with a header row, and returns a list of the column names.\n",
        "The list of column names should be in the same order as in the file's header."
      ]
    },
    {
      "cell_type": "code",
      "execution_count": 61,
      "metadata": {
        "id": "fMqaF4brQhrq"
      },
      "outputs": [],
      "source": [
        "# YOUR CHANGES HERE\n",
        "import csv\n",
        "def p13(filename):\n",
        "    with open(filename) as inputfile:\n",
        "        reader = csv.reader(inputfile, delimiter=',')\n",
        "        data = list(reader)\n",
        "        print(data[0])"
      ]
    },
    {
      "cell_type": "code",
      "execution_count": 62,
      "metadata": {},
      "outputs": [
        {
          "name": "stdout",
          "output_type": "stream",
          "text": [
            "['foo', 'bar']\n"
          ]
        }
      ],
      "source": [
        "p13(\"data13_a.csv\")"
      ]
    },
    {
      "cell_type": "code",
      "execution_count": 64,
      "metadata": {},
      "outputs": [
        {
          "name": "stdout",
          "output_type": "stream",
          "text": [
            "['super', 'man']\n"
          ]
        }
      ],
      "source": [
        "p13(\"data13_c.csv\")"
      ]
    },
    {
      "cell_type": "markdown",
      "metadata": {
        "id": "-WW_1NgRN3J6"
      },
      "source": [
        "### Problem 14\n",
        "\n",
        "Write a function `p14` that takes in an input filename and column name, parses the file as a CSV with a header row, and returns a list of the values in the given column.\n",
        "If the column is missing, your function should return a KeyError."
      ]
    },
    {
      "cell_type": "code",
      "execution_count": 127,
      "metadata": {
        "id": "1vo-ODsBPSW1"
      },
      "outputs": [],
      "source": [
        "# YOUR CHANGES HERE\n",
        "\n",
        "def p14(filename, column_name):\n",
        "    allvalues=[]\n",
        "    with open(filename) as f:\n",
        "        reader = csv.DictReader(f, delimiter=',')\n",
        "        if column_name not in reader.fieldnames:\n",
        "            raise KeyError\n",
        "        for row in reader:\n",
        "            allvalues.append(row[column_name])\n",
        "    return allvalues        \n",
        "\n",
        "        "
      ]
    },
    {
      "cell_type": "code",
      "execution_count": 128,
      "metadata": {},
      "outputs": [
        {
          "data": {
            "text/plain": [
              "['1', '3']"
            ]
          },
          "execution_count": 128,
          "metadata": {},
          "output_type": "execute_result"
        }
      ],
      "source": [
        "p14(\"data14_a.csv\", \"foo\")"
      ]
    },
    {
      "cell_type": "code",
      "execution_count": 129,
      "metadata": {},
      "outputs": [
        {
          "data": {
            "text/plain": [
              "['2', '4']"
            ]
          },
          "execution_count": 129,
          "metadata": {},
          "output_type": "execute_result"
        }
      ],
      "source": [
        "p14(\"data14_a.csv\", \"bar\")"
      ]
    },
    {
      "cell_type": "code",
      "execution_count": 130,
      "metadata": {},
      "outputs": [
        {
          "data": {
            "text/plain": [
              "['1']"
            ]
          },
          "execution_count": 130,
          "metadata": {},
          "output_type": "execute_result"
        }
      ],
      "source": [
        "p14(\"data14_b.csv\", \"foo\")"
      ]
    },
    {
      "cell_type": "code",
      "execution_count": 131,
      "metadata": {},
      "outputs": [
        {
          "data": {
            "text/plain": [
              "['2']"
            ]
          },
          "execution_count": 131,
          "metadata": {},
          "output_type": "execute_result"
        }
      ],
      "source": [
        "p14(\"data14_b.csv\", \"bar\")"
      ]
    },
    {
      "cell_type": "markdown",
      "metadata": {
        "id": "o65vc-i9Q8mu"
      },
      "source": [
        "### Problem 15\n",
        "\n",
        "Write a function `p15` that takes in a filename and string key, parses the file as JSON, and returns the value for that key. If the object in the JSON file is not a dictionary or the given key does not exist, then the function should return None."
      ]
    },
    {
      "cell_type": "code",
      "execution_count": 122,
      "metadata": {
        "id": "hwZliDa0RIDJ"
      },
      "outputs": [],
      "source": [
        "# YOUR CHANGES HERE\n",
        "import json\n",
        "\n",
        "def p15(filename, key):\n",
        "    with open(filename) as file:\n",
        "        data = json.load(file)\n",
        "        if isinstance(data,dict) and key in data.keys():\n",
        "            return data[key]\n",
        "        else:\n",
        "            return print(None)"
      ]
    },
    {
      "cell_type": "code",
      "execution_count": 123,
      "metadata": {},
      "outputs": [
        {
          "data": {
            "text/plain": [
              "3"
            ]
          },
          "execution_count": 123,
          "metadata": {},
          "output_type": "execute_result"
        }
      ],
      "source": [
        "p15(\"data15_a.json\", \"x\")"
      ]
    },
    {
      "cell_type": "code",
      "execution_count": 124,
      "metadata": {},
      "outputs": [
        {
          "name": "stdout",
          "output_type": "stream",
          "text": [
            "None\n"
          ]
        }
      ],
      "source": [
        "p15(\"data15_a.json\", \"y\")"
      ]
    },
    {
      "cell_type": "markdown",
      "metadata": {
        "id": "-r_LEYgDPWip"
      },
      "source": [
        "### Problem 16\n",
        "\n",
        "Write a function that takes in an input filename, parses the file as a TSV with a header row, and returns a dictionary with the average value of each column."
      ]
    },
    {
      "cell_type": "markdown",
      "metadata": {
        "id": "twnfDlv2PjO3"
      },
      "source": [
        "Hint:\n",
        "* Write a helper function to compute the average of a list, and use list comprehensions to get all the values for each column.\n"
      ]
    },
    {
      "cell_type": "code",
      "execution_count": 147,
      "metadata": {
        "id": "GGmnvLxbPpLv"
      },
      "outputs": [],
      "source": [
        "# YOUR CHANGES HERE\n",
        "\n",
        "def p16(filename):\n",
        "    def avgcomp(lst):\n",
        "        if not lst:\n",
        "            return 0\n",
        "        numerical_list = []\n",
        "        for s in lst:\n",
        "            numerical_list.append(float(s))\n",
        "\n",
        "        total_sum = sum(numerical_list)\n",
        "        average = total_sum / len(numerical_list)\n",
        "        return average\n",
        "\n",
        "    values_map = {} \n",
        "    fieldnames = []\n",
        "\n",
        "    with open(filename, 'r', newline='', encoding='utf-8') as f:\n",
        "        reader = csv.DictReader(f, delimiter='\\t') \n",
        "        fieldnames = reader.fieldnames \n",
        "\n",
        "        for col_name in fieldnames:\n",
        "            values_map[col_name] = []\n",
        "\n",
        "        for row_dict in reader: \n",
        "            for col_name in fieldnames:\n",
        "                if col_name in row_dict:\n",
        "                    values_map[col_name].append(row_dict[col_name])\n",
        "\n",
        "    #Compute averages\n",
        "    averages_result = {}\n",
        "    for col_name, values_list in values_map.items():\n",
        "        averages_result[col_name] = avgcomp(values_list) # Call avgcomp on each column's list\n",
        "\n",
        "    return averages_result # 7. Return the dictionary of averages\n",
        "        "
      ]
    },
    {
      "cell_type": "code",
      "execution_count": 148,
      "metadata": {},
      "outputs": [
        {
          "data": {
            "text/plain": [
              "{'foo': 2.5, 'bar': 3.0}"
            ]
          },
          "execution_count": 148,
          "metadata": {},
          "output_type": "execute_result"
        }
      ],
      "source": [
        "p16(\"data16_b.tsv\")"
      ]
    },
    {
      "cell_type": "markdown",
      "metadata": {
        "id": "tIwyDeWjQeQ4"
      },
      "source": [
        "### Problem 17\n",
        "\n",
        "Write a function `p17` that takes in a filename as an argument and a list of column names, parses the file as a CSV, and returns True if all the given columns are in the file and False otherwise."
      ]
    },
    {
      "cell_type": "code",
      "execution_count": 169,
      "metadata": {
        "id": "zXAXdv8sQrOm"
      },
      "outputs": [],
      "source": [
        "# YOUR CHANGES HERE\n",
        "\n",
        "def p17(filename, column_names):\n",
        "    with open(filename) as f:\n",
        "        reader = csv.DictReader(f,delimiter=\",\")\n",
        "        for names in column_names:\n",
        "            if names not in reader.fieldnames:\n",
        "                return False\n",
        "        return True"
      ]
    },
    {
      "cell_type": "code",
      "execution_count": 170,
      "metadata": {},
      "outputs": [
        {
          "data": {
            "text/plain": [
              "True"
            ]
          },
          "execution_count": 170,
          "metadata": {},
          "output_type": "execute_result"
        }
      ],
      "source": [
        "p17(\"data17_a.csv\", [\"foo\"])"
      ]
    },
    {
      "cell_type": "code",
      "execution_count": 171,
      "metadata": {},
      "outputs": [
        {
          "data": {
            "text/plain": [
              "True"
            ]
          },
          "execution_count": 171,
          "metadata": {},
          "output_type": "execute_result"
        }
      ],
      "source": [
        "p17(\"data17_a.csv\", [\"foo\", \"bar\"])"
      ]
    },
    {
      "cell_type": "code",
      "execution_count": 172,
      "metadata": {},
      "outputs": [
        {
          "data": {
            "text/plain": [
              "False"
            ]
          },
          "execution_count": 172,
          "metadata": {},
          "output_type": "execute_result"
        }
      ],
      "source": [
        "p17(\"data17_a.csv\", [\"baz\"])"
      ]
    },
    {
      "cell_type": "markdown",
      "metadata": {
        "id": "t5oXA2CUQ0hU"
      },
      "source": [
        "### Problem 18\n",
        "\n",
        "Write a function `p18` that takes in a filename, column name, and column value as arguments, parses the file as a TSV, and returns the first row where the given column has the given value. The row should be returned as a dictionary. If no such row exists, return None.\n"
      ]
    },
    {
      "cell_type": "code",
      "execution_count": 258,
      "metadata": {
        "id": "qAgVEX3eQ4Hm"
      },
      "outputs": [],
      "source": [
        "# YOUR CHANGES HERE\n",
        "\n",
        "def p18(filename, column_name, column_value):\n",
        "    with open(filename) as file:\n",
        "        reader = csv.DictReader(file, delimiter=\"\\t\")\n",
        "        for row in reader:\n",
        "            if row[column_name] == column_value:\n",
        "                print(row)\n",
        "            \n",
        "        return None\n"
      ]
    },
    {
      "cell_type": "code",
      "execution_count": 259,
      "metadata": {},
      "outputs": [],
      "source": [
        "p18(\"data18_a.tsv\", \"foo\", 3)"
      ]
    },
    {
      "cell_type": "code",
      "execution_count": 260,
      "metadata": {},
      "outputs": [],
      "source": [
        "p18(\"data18_a.tsv\", \"foo\", 1)"
      ]
    },
    {
      "cell_type": "markdown",
      "metadata": {
        "id": "9yDxpWGNIF_x"
      },
      "source": [
        "### Problem 19\n",
        "\n",
        "The following function `p19` is supposed to check if its input list has at least 10 entries, and return the 10th entry if it exists, and None if it has fewer than 10 entries.\n",
        "\n",
        "However, there is a bug in the code so it often returns wrong answers and sometimes crashes.\n",
        "Fix the bug in `p19`."
      ]
    },
    {
      "cell_type": "code",
      "execution_count": 177,
      "metadata": {
        "id": "pfYbydeAIN2V"
      },
      "outputs": [],
      "source": [
        "# YOUR CHANGES HERE\n",
        "\n",
        "def p19(input):\n",
        "    if len(input) >= 10:\n",
        "        return input[9]\n",
        "\n",
        "    return None"
      ]
    },
    {
      "cell_type": "code",
      "execution_count": 179,
      "metadata": {
        "id": "AwmdK79zJeYd"
      },
      "outputs": [
        {
          "data": {
            "text/plain": [
              "'a'"
            ]
          },
          "execution_count": 179,
          "metadata": {},
          "output_type": "execute_result"
        }
      ],
      "source": [
        "# this should return \"a\"\n",
        "\n",
        "p19(\"aaaaaaaaaaaaaa\")"
      ]
    },
    {
      "cell_type": "code",
      "execution_count": 180,
      "metadata": {
        "id": "YKgSkDoGJhvz"
      },
      "outputs": [],
      "source": [
        "# this should return None\n",
        "p19(\"bbbbbbb\")"
      ]
    },
    {
      "cell_type": "code",
      "execution_count": 181,
      "metadata": {
        "id": "eZ9mTjC2JZVc"
      },
      "outputs": [
        {
          "data": {
            "text/plain": [
              "'j'"
            ]
          },
          "execution_count": 181,
          "metadata": {},
          "output_type": "execute_result"
        }
      ],
      "source": [
        "# this should return \"j\"\n",
        "\n",
        "p19(\"abcdefghij\")"
      ]
    },
    {
      "cell_type": "markdown",
      "metadata": {
        "id": "c2settRmJm80"
      },
      "source": [
        "### Problem 20\n",
        "\n",
        "Set `p20` to be a list of filenames of the form \"data20_X.tsv\" that exist in the current directory.\n",
        "X should be a one digit number from 0 to 9.\n",
        "For example, the filename could be \"data20_0.tsv\", \"data20_9.tsv\", or any other filename using 0 to 9 to set X.\n",
        "\n"
      ]
    },
    {
      "cell_type": "markdown",
      "metadata": {
        "id": "K-hDzXy7LFwK"
      },
      "source": [
        "There are many ways to do this.\n",
        "It can be done using just this week's lessons.\n",
        "You may also find easier ways to check based on libraries.\n",
        "You may use libraries to solve this problem, as long as they are installed by default in our Codespaces environment.\n",
        "(If you try to install other libraries, your answer will likely be rejected by the auto-grader.)"
      ]
    },
    {
      "cell_type": "code",
      "execution_count": 191,
      "metadata": {
        "colab": {
          "base_uri": "https://localhost:8080/"
        },
        "id": "7ZmPXwpsLmrp",
        "outputId": "a279e7ad-6c5c-4d39-8dbd-dfdb48cd286d"
      },
      "outputs": [
        {
          "data": {
            "text/plain": [
              "Ellipsis"
            ]
          },
          "execution_count": 191,
          "metadata": {},
          "output_type": "execute_result"
        }
      ],
      "source": [
        "# YOUR CHANGES HERE\n",
        "p20 = []\n",
        "\n",
        "for x in range(10):\n",
        "    filename = f\"data20_{x}.tsv\"\n",
        "    try:\n",
        "        with open(filename) as f:\n",
        "            p20.append(filename)\n",
        "    except FileNotFoundError:\n",
        "        pass\n",
        "    except Exception as e:\n",
        "        pass\n",
        "\n",
        "..."
      ]
    },
    {
      "cell_type": "code",
      "execution_count": 186,
      "metadata": {},
      "outputs": [
        {
          "data": {
            "text/plain": [
              "['data20_0.tsv', 'data20_8.tsv']"
            ]
          },
          "execution_count": 186,
          "metadata": {},
          "output_type": "execute_result"
        }
      ],
      "source": [
        "p20"
      ]
    }
  ],
  "metadata": {
    "colab": {
      "toc_visible": false
    },
    "kernelspec": {
      "display_name": "Python 3",
      "name": "python3"
    },
    "language_info": {
      "codemirror_mode": {
        "name": "ipython",
        "version": 3
      },
      "file_extension": ".py",
      "mimetype": "text/x-python",
      "name": "python",
      "nbconvert_exporter": "python",
      "pygments_lexer": "ipython3",
      "version": "3.12.1"
    }
  },
  "nbformat": 4,
  "nbformat_minor": 0
}
